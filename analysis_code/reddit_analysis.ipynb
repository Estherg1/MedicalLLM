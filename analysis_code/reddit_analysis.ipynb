{
 "cells": [
  {
   "cell_type": "markdown",
   "id": "fe8f14f5",
   "metadata": {},
   "source": [
    "# LLM Similirity Analysis for Medical Questions asked on Reddit "
   ]
  },
  {
   "cell_type": "markdown",
   "id": "f4b1ffac",
   "metadata": {},
   "source": [
    "This analysis consists of understanding differences between a general LLM and medical LLM when it comes to providing medical advice to someone. Here we compare similarity of the LLM response to the physician response to conduct this analysis."
   ]
  },
  {
   "cell_type": "code",
   "execution_count": 1,
   "id": "12b9a7b6",
   "metadata": {},
   "outputs": [
    {
     "name": "stdout",
     "output_type": "stream",
     "text": [
      "   Unnamed: 0                                              title  \\\n",
      "0           0                    Leg pain after 4ml IM injection   \n",
      "1           1                           Exhausted, out of breath   \n",
      "2           2  Do these symptoms mean I should get a colonosc...   \n",
      "3           3                 How can I fight my Rosacea problem   \n",
      "4           4              Thought I was going to die yesterday.   \n",
      "\n",
      "                                            selftext  \\\n",
      "0  I'm a regular user of anabolic steroids, pepti...   \n",
      "1  Hi everyone, Today I went to another city with...   \n",
      "2  My question is about the necessity of a colono...   \n",
      "3  I am a 21 year old male turning 22 next month....   \n",
      "4  I (33 M) was standing in the kitchen yesterday...   \n",
      "\n",
      "                                  physician_comments  \\\n",
      "0  Although I don't know anything about the creat...   \n",
      "1  Sounds like he has COPD since you say his lung...   \n",
      "2  Is there any family history of colon cancer or...   \n",
      "3  Rosacea is a difficult dermatological conditio...   \n",
      "4  There's a difference between panic disorder an...   \n",
      "\n",
      "                                Medical LLM Response  \\\n",
      "0  Thank you for providing such a detailed histor...   \n",
      "1  Thank you for describing the situation with su...   \n",
      "2  Thank you for providing such a detailed and th...   \n",
      "3  Thank you for sharing your experience Â— it so...   \n",
      "4  Thank you for sharing such a detailed account ...   \n",
      "\n",
      "                                       combined_text  \\\n",
      "0  Leg pain after 4ml IM injection\\n\\nI'm a regul...   \n",
      "1  Exhausted, out of breath\\n\\nHi everyone, Today...   \n",
      "2  Do these symptoms mean I should get a colonosc...   \n",
      "3  How can I fight my Rosacea problem\\n\\nI am a 2...   \n",
      "4  Thought I was going to die yesterday.\\n\\nI (33...   \n",
      "\n",
      "                                General LLM Response  med_similarity  \\\n",
      "0  I'm an AI, not a doctor, but I can provide som...             7.5   \n",
      "1  I'm an AI developed by OpenAI and not a doctor...             7.5   \n",
      "2  I'm an AI language model and can't provide per...             8.5   \n",
      "3  I'm an AI language model and can provide gener...             7.5   \n",
      "4  I'm an AI and not a doctor, but what you're de...             5.5   \n",
      "\n",
      "   general_similarity  Expert/MedLLM Response Similarity (BERT)  \\\n",
      "0                 7.5                                      4.81   \n",
      "1                 7.5                                      7.46   \n",
      "2                 7.5                                      6.53   \n",
      "3                 6.5                                      6.66   \n",
      "4                 5.0                                      5.80   \n",
      "\n",
      "   Expert/General LLM Response Similarity (BERT)  \n",
      "0                                           5.39  \n",
      "1                                           7.48  \n",
      "2                                           6.06  \n",
      "3                                           6.70  \n",
      "4                                           5.00  \n",
      "Index(['Unnamed: 0', 'title', 'selftext', 'physician_comments',\n",
      "       'Medical LLM Response', 'combined_text', 'General LLM Response',\n",
      "       'med_similarity', 'general_similarity',\n",
      "       'Expert/MedLLM Response Similarity (BERT)',\n",
      "       'Expert/General LLM Response Similarity (BERT)'],\n",
      "      dtype='object')\n"
     ]
    }
   ],
   "source": [
    "import pandas as pd\n",
    "\n",
    "df = pd.read_csv(\"../reddit_data_with_all_similarity.csv\")\n",
    "df = df.rename(columns={\n",
    "    'Physician/MedLLM Response Similarity': 'med_similarity',\n",
    "    'Expert/General LLM Response Similarity': 'general_similarity'\n",
    "})\n",
    "\n",
    "print(df.head())\n",
    "print(df.columns)"
   ]
  },
  {
   "cell_type": "code",
   "execution_count": 2,
   "id": "bfc9aed3",
   "metadata": {},
   "outputs": [
    {
     "name": "stdout",
     "output_type": "stream",
     "text": [
      "T-statistic: -4.628326018019341, p-value: 1.1307500855765364e-05\n"
     ]
    },
    {
     "data": {
      "image/png": "[encoded data removed]",
      "text/plain": [
       "<Figure size 640x480 with 1 Axes>"
      ]
     },
     "metadata": {},
     "output_type": "display_data"
    }
   ],
   "source": [
    "from scipy.stats import ttest_rel\n",
    "\n",
    "t_stat, p_val = ttest_rel(df['general_similarity'], df['med_similarity'])\n",
    "print(f\"T-statistic: {t_stat}, p-value: {p_val}\")\n",
    "\n",
    "import matplotlib.pyplot as plt\n",
    "\n",
    "plt.hist(df['general_similarity'],  \n",
    "         alpha=0.5,\n",
    "         label='General LLM', \n",
    "         color='#aecbfa') \n",
    "\n",
    "plt.hist(df['med_similarity'],  \n",
    "         alpha=0.5,\n",
    "         label='Medical LLM', \n",
    "         color='#ffc9c9') \n",
    "  \n",
    "plt.legend(loc='upper left') \n",
    "plt.title('Similarity Scores between model and expert response') \n",
    "plt.xlabel('Similarity Score')\n",
    "plt.ylabel('Frequency')\n",
    "plt.show()"
   ]
  },
  {
   "cell_type": "code",
   "execution_count": 11,
   "id": "963fac8b",
   "metadata": {},
   "outputs": [
    {
     "data": {
      "text/plain": [
       "TtestResult(statistic=-2.11749697919912, pvalue=0.035478384999431706, df=196.0)"
      ]
     },
     "execution_count": 11,
     "metadata": {},
     "output_type": "execute_result"
    }
   ],
   "source": [
    "import scipy.stats as stats\n",
    "stats.ttest_ind(a=df['general_similarity'], b=df['med_similarity'], equal_var=True)"
   ]
  },
  {
   "cell_type": "code",
   "execution_count": 12,
   "id": "4fb34a09",
   "metadata": {},
   "outputs": [
    {
     "data": {
      "text/plain": [
       "TtestResult(statistic=0.5085962433147363, pvalue=0.6116072581329874, df=196.0)"
      ]
     },
     "execution_count": 12,
     "metadata": {},
     "output_type": "execute_result"
    }
   ],
   "source": [
    "stats.ttest_ind(a=df['Expert/MedLLM Response Similarity (BERT)'], b=df['Expert/General LLM Response Similarity (BERT)'], equal_var=True)"
   ]
  },
  {
   "cell_type": "markdown",
   "id": "10bef326",
   "metadata": {},
   "source": [
    "#### Feature Engineering\n",
    "Here we are deriving some important imformation from the reddit prompts that we will use in analysis"
   ]
  },
  {
   "cell_type": "code",
   "execution_count": 3,
   "id": "51c00879",
   "metadata": {},
   "outputs": [
    {
     "name": "stderr",
     "output_type": "stream",
     "text": [
      "/var/folders/dc/c48y5rmx59z770gp8x9c71wr0000gn/T/ipykernel_21219/4128847179.py:4: UserWarning: This pattern is interpreted as a regular expression, and has match groups. To actually get the groups, use str.extract.\n",
      "  df['has_image_link'] = df['combined_text'].str.contains(r'(https?://\\S+\\.(jpg|jpeg|png|gif))', flags=re.IGNORECASE, na=False)\n",
      "/var/folders/dc/c48y5rmx59z770gp8x9c71wr0000gn/T/ipykernel_21219/4128847179.py:16: UserWarning: This pattern is interpreted as a regular expression, and has match groups. To actually get the groups, use str.extract.\n",
      "  df['mentions_personal_info'] = df['combined_text'].str.contains(pattern_combined, flags=re.IGNORECASE, na=False)\n"
     ]
    }
   ],
   "source": [
    "import re\n",
    "\n",
    "df['word_count'] = df['combined_text'].apply(lambda x: len(str(x).split()))\n",
    "df['has_image_link'] = df['combined_text'].str.contains(r'(https?://\\S+\\.(jpg|jpeg|png|gif))', flags=re.IGNORECASE, na=False)\n",
    "\n",
    "personal_info_patterns = [\n",
    "    r'\\bage\\b', r'\\b[0-9]{1,3} (years? old|yo)\\b',  # e.g., \"25 years old\"\n",
    "    r'\\bheight\\b', r'\\bweight\\b', r'\\blbs\\b', r'\\bkg\\b',  # height/weight units\n",
    "    r'\\bpregnan', r'\\bgender\\b', r'\\bfemale\\b', r'\\bmale\\b',  # gender/pregnancy\n",
    "    r'\\bsex\\b', r'\\btrans\\b', r'\\bnon[-\\s]?binary\\b',\n",
    "    r'\\bsmok(er|ing)\\b', r'\\balcohol\\b', r'\\bdiabetic\\b', r'\\bobese\\b',\n",
    "    r'\\bBMI\\b', r'\\bbody mass\\b', r'\\bblood pressure\\b'\n",
    "]\n",
    "\n",
    "pattern_combined = '|'.join(personal_info_patterns)\n",
    "df['mentions_personal_info'] = df['combined_text'].str.contains(pattern_combined, flags=re.IGNORECASE, na=False)\n",
    "\n",
    "def count_personal_info(text):\n",
    "    text = str(text).lower()\n",
    "    return sum(bool(re.search(p, text)) for p in personal_info_patterns)\n",
    "\n",
    "df['num_personal_details'] = df['combined_text'].apply(count_personal_info)\n",
    "\n",
    "\n",
    "\n",
    "def categorize_issue(text):\n",
    "    text = str(text).lower()\n",
    "    if any(word in text for word in ['rash', 'acne', 'itch']):\n",
    "        return 'dermatology'\n",
    "    elif any(word in text for word in ['pain', 'injury', 'fracture']):\n",
    "        return 'orthopedic'\n",
    "    elif any(word in text for word in ['heart', 'chest pain']):\n",
    "        return 'cardiology'\n",
    "    else:\n",
    "        return 'other'\n",
    "\n",
    "df['issue_group'] = df['combined_text'].apply(categorize_issue)\n"
   ]
  },
  {
   "cell_type": "markdown",
   "id": "f9039d2c",
   "metadata": {},
   "source": [
    "### Explore Factors that Might Affect LLM Similarity\n",
    "here we are using a regression to understand how these features may affect similarity scores"
   ]
  },
  {
   "cell_type": "code",
   "execution_count": 4,
   "id": "a83f10f9",
   "metadata": {},
   "outputs": [
    {
     "name": "stdout",
     "output_type": "stream",
     "text": [
      "                            OLS Regression Results                            \n",
      "==============================================================================\n",
      "Dep. Variable:        similarity_diff   R-squared:                       0.211\n",
      "Model:                            OLS   Adj. R-squared:                  0.151\n",
      "Method:                 Least Squares   F-statistic:                     3.482\n",
      "Date:                Mon, 19 May 2025   Prob (F-statistic):            0.00237\n",
      "Time:                        22:46:04   Log-Likelihood:                -185.87\n",
      "No. Observations:                  99   AIC:                             387.7\n",
      "Df Residuals:                      91   BIC:                             408.5\n",
      "Df Model:                           7                                         \n",
      "Covariance Type:            nonrobust                                         \n",
      "==================================================================================================\n",
      "                                     coef    std err          t      P>|t|      [0.025      0.975]\n",
      "--------------------------------------------------------------------------------------------------\n",
      "Intercept                          1.3210      0.811      1.628      0.107      -0.290       2.932\n",
      "mentions_personal_info[T.True]    -0.3627      0.525     -0.691      0.491      -1.405       0.680\n",
      "has_image_link[T.True]             3.6038      0.889      4.055      0.000       1.838       5.369\n",
      "C(issue_group)[T.dermatology]     -0.7968      0.912     -0.874      0.385      -2.608       1.014\n",
      "C(issue_group)[T.orthopedic]       0.1295      0.805      0.161      0.873      -1.470       1.729\n",
      "C(issue_group)[T.other]           -0.5324      0.792     -0.673      0.503      -2.105       1.040\n",
      "word_count                     -3.582e-05      0.001     -0.028      0.978      -0.003       0.003\n",
      "num_personal_details              -0.1238      0.192     -0.646      0.520      -0.504       0.257\n",
      "==============================================================================\n",
      "Omnibus:                        5.999   Durbin-Watson:                   1.745\n",
      "Prob(Omnibus):                  0.050   Jarque-Bera (JB):                6.676\n",
      "Skew:                           0.336   Prob(JB):                       0.0355\n",
      "Kurtosis:                       4.080   Cond. No.                     2.01e+03\n",
      "==============================================================================\n",
      "\n",
      "Notes:\n",
      "[1] Standard Errors assume that the covariance matrix of the errors is correctly specified.\n",
      "[2] The condition number is large, 2.01e+03. This might indicate that there are\n",
      "strong multicollinearity or other numerical problems.\n"
     ]
    }
   ],
   "source": [
    "import statsmodels.formula.api as smf\n",
    "\n",
    "df['similarity_diff'] = df['med_similarity'] - df['general_similarity']\n",
    "model = smf.ols('similarity_diff ~ word_count + num_personal_details + mentions_personal_info + has_image_link + C(issue_group)', data=df).fit()\n",
    "print(model.summary())\n"
   ]
  },
  {
   "cell_type": "code",
   "execution_count": 5,
   "id": "2ded423d",
   "metadata": {},
   "outputs": [
    {
     "data": {
      "image/png": "[encoded data removed]",
      "text/plain": [
       "<Figure size 640x480 with 1 Axes>"
      ]
     },
     "metadata": {},
     "output_type": "display_data"
    }
   ],
   "source": [
    "import seaborn as sns\n",
    "import matplotlib.pyplot as plt\n",
    "\n",
    "sns.boxplot(x='issue_group', y='med_similarity', data=df)\n",
    "plt.xticks(rotation=45)\n",
    "plt.title(\"Similarity Difference by Issue Group\")\n",
    "plt.show()\n"
   ]
  },
  {
   "cell_type": "code",
   "execution_count": 6,
   "id": "84a3d54a",
   "metadata": {},
   "outputs": [
    {
     "name": "stdout",
     "output_type": "stream",
     "text": [
      "                            OLS Regression Results                            \n",
      "==============================================================================\n",
      "Dep. Variable:         med_similarity   R-squared:                       0.060\n",
      "Model:                            OLS   Adj. R-squared:                 -0.001\n",
      "Method:                 Least Squares   F-statistic:                    0.9822\n",
      "Date:                Mon, 19 May 2025   Prob (F-statistic):              0.442\n",
      "Time:                        22:46:04   Log-Likelihood:                -236.47\n",
      "No. Observations:                  99   AIC:                             486.9\n",
      "Df Residuals:                      92   BIC:                             505.1\n",
      "Df Model:                           6                                         \n",
      "Covariance Type:            nonrobust                                         \n",
      "==================================================================================================\n",
      "                                     coef    std err          t      P>|t|      [0.025      0.975]\n",
      "--------------------------------------------------------------------------------------------------\n",
      "Intercept                          7.8065      1.343      5.813      0.000       5.139      10.474\n",
      "mentions_personal_info[T.True]     0.2857      0.613      0.466      0.642      -0.932       1.503\n",
      "has_image_link[T.True]            -0.0329      1.468     -0.022      0.982      -2.949       2.883\n",
      "C(issue_group)[T.dermatology]     -2.1570      1.502     -1.436      0.154      -5.139       0.825\n",
      "C(issue_group)[T.orthopedic]      -1.5089      1.334     -1.131      0.261      -4.158       1.140\n",
      "C(issue_group)[T.other]           -2.2474      1.310     -1.716      0.090      -4.849       0.354\n",
      "word_count                         0.0012      0.002      0.553      0.582      -0.003       0.005\n",
      "==============================================================================\n",
      "Omnibus:                       10.601   Durbin-Watson:                   2.033\n",
      "Prob(Omnibus):                  0.005   Jarque-Bera (JB):               10.074\n",
      "Skew:                          -0.714   Prob(JB):                      0.00649\n",
      "Kurtosis:                       2.366   Cond. No.                     2.00e+03\n",
      "==============================================================================\n",
      "\n",
      "Notes:\n",
      "[1] Standard Errors assume that the covariance matrix of the errors is correctly specified.\n",
      "[2] The condition number is large,  2e+03. This might indicate that there are\n",
      "strong multicollinearity or other numerical problems.\n"
     ]
    }
   ],
   "source": [
    "model = smf.ols('med_similarity ~ word_count + mentions_personal_info + has_image_link + C(issue_group)', data=df).fit()\n",
    "print(model.summary())"
   ]
  },
  {
   "cell_type": "code",
   "execution_count": 7,
   "id": "bbedae1d",
   "metadata": {},
   "outputs": [
    {
     "name": "stdout",
     "output_type": "stream",
     "text": [
      "                            OLS Regression Results                            \n",
      "==============================================================================\n",
      "Dep. Variable:     general_similarity   R-squared:                       0.129\n",
      "Model:                            OLS   Adj. R-squared:                  0.073\n",
      "Method:                 Least Squares   F-statistic:                     2.280\n",
      "Date:                Mon, 19 May 2025   Prob (F-statistic):             0.0426\n",
      "Time:                        22:46:04   Log-Likelihood:                -235.01\n",
      "No. Observations:                  99   AIC:                             484.0\n",
      "Df Residuals:                      92   BIC:                             502.2\n",
      "Df Model:                           6                                         \n",
      "Covariance Type:            nonrobust                                         \n",
      "==================================================================================================\n",
      "                                     coef    std err          t      P>|t|      [0.025      0.975]\n",
      "--------------------------------------------------------------------------------------------------\n",
      "Intercept                          6.5148      1.323      4.923      0.000       3.887       9.143\n",
      "mentions_personal_info[T.True]     0.8890      0.604      1.472      0.145      -0.311       2.089\n",
      "has_image_link[T.True]            -3.5874      1.447     -2.480      0.015      -6.461      -0.714\n",
      "C(issue_group)[T.dermatology]     -1.4287      1.480     -0.966      0.337      -4.367       1.510\n",
      "C(issue_group)[T.orthopedic]      -1.6594      1.314     -1.263      0.210      -4.269       0.951\n",
      "C(issue_group)[T.other]           -1.7470      1.291     -1.354      0.179      -4.310       0.816\n",
      "word_count                         0.0012      0.002      0.580      0.563      -0.003       0.005\n",
      "==============================================================================\n",
      "Omnibus:                        9.240   Durbin-Watson:                   2.030\n",
      "Prob(Omnibus):                  0.010   Jarque-Bera (JB):                6.613\n",
      "Skew:                          -0.504   Prob(JB):                       0.0367\n",
      "Kurtosis:                       2.235   Cond. No.                     2.00e+03\n",
      "==============================================================================\n",
      "\n",
      "Notes:\n",
      "[1] Standard Errors assume that the covariance matrix of the errors is correctly specified.\n",
      "[2] The condition number is large,  2e+03. This might indicate that there are\n",
      "strong multicollinearity or other numerical problems.\n"
     ]
    }
   ],
   "source": [
    "model = smf.ols('general_similarity ~ word_count + mentions_personal_info + has_image_link + C(issue_group)', data=df).fit()\n",
    "print(model.summary())"
   ]
  }
 ],
 "metadata": {
  "kernelspec": {
   "display_name": "base",
   "language": "python",
   "name": "python3"
  },
  "language_info": {
   "codemirror_mode": {
    "name": "ipython",
    "version": 3
   },
   "file_extension": ".py",
   "mimetype": "text/x-python",
   "name": "python",
   "nbconvert_exporter": "python",
   "pygments_lexer": "ipython3",
   "version": "3.11.5"
  }
 },
 "nbformat": 4,
 "nbformat_minor": 5
}
