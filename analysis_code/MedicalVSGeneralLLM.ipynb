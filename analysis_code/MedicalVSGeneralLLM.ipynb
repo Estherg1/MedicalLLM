{
 "cells": [
  {
   "cell_type": "markdown",
   "id": "2cfdcadf",
   "metadata": {},
   "source": [
    "# Comparing General and Medical LLM similarity to physician responses\n",
    "### Do general and medical LLMs differ in their similarity to physician responses, and is there a significant difference in their similarity scores?"
   ]
  },
  {
   "cell_type": "code",
   "execution_count": null,
   "id": "2650e42b",
   "metadata": {
    "vscode": {
     "languageId": "plaintext"
    }
   },
   "outputs": [],
   "source": []
  }
 ],
 "metadata": {
  "language_info": {
   "name": "python"
  }
 },
 "nbformat": 4,
 "nbformat_minor": 5
}
