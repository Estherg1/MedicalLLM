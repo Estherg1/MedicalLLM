{
 "cells": [
  {
   "cell_type": "markdown",
   "id": "2cfdcadf",
   "metadata": {},
   "source": [
    "# Comparing General and Medical LLM similarity to physician responses\n",
    "### Do general and medical LLMs differ in their similarity to physician responses, and is there a significant difference in their similarity scores?\n",
    "We will be conducting a T-Test below in order to assess this."
   ]
  },
  {
   "cell_type": "code",
   "execution_count": 8,
   "id": "2650e42b",
   "metadata": {},
   "outputs": [],
   "source": [
    "import pandas as pd\n",
    "import numpy as np  \n",
    "import scipy.stats as stats"
   ]
  },
  {
   "cell_type": "code",
   "execution_count": 7,
   "id": "ae9dae09",
   "metadata": {},
   "outputs": [
    {
     "data": {
      "text/html": [
       "<div>\n",
       "<style scoped>\n",
       "    .dataframe tbody tr th:only-of-type {\n",
       "        vertical-align: middle;\n",
       "    }\n",
       "\n",
       "    .dataframe tbody tr th {\n",
       "        vertical-align: top;\n",
       "    }\n",
       "\n",
       "    .dataframe thead th {\n",
       "        text-align: right;\n",
       "    }\n",
       "</style>\n",
       "<table border=\"1\" class=\"dataframe\">\n",
       "  <thead>\n",
       "    <tr style=\"text-align: right;\">\n",
       "      <th></th>\n",
       "      <th>qtype</th>\n",
       "      <th>Question</th>\n",
       "      <th>Answer</th>\n",
       "      <th>MedLLM Answer</th>\n",
       "      <th>General LLM Response</th>\n",
       "      <th>Expert/MedLLM Response Similarity</th>\n",
       "      <th>Expert/General LLM Response Similarity</th>\n",
       "      <th>Expert/MedLLM Response Similarity (BERT)</th>\n",
       "      <th>Expert/General LLM Response Similarity (BERT)</th>\n",
       "    </tr>\n",
       "  </thead>\n",
       "  <tbody>\n",
       "    <tr>\n",
       "      <th>0</th>\n",
       "      <td>symptoms</td>\n",
       "      <td>What are the symptoms of Lymphocytic Choriomen...</td>\n",
       "      <td>LCMV is most commonly recognized as causing ne...</td>\n",
       "      <td>Lymphocytic choriomeningitis (LCM) is a viral ...</td>\n",
       "      <td>Lymphocytic Choriomeningitis (LCM) can cause a...</td>\n",
       "      <td>8.5</td>\n",
       "      <td>8.5</td>\n",
       "      <td>7.72</td>\n",
       "      <td>7.40</td>\n",
       "    </tr>\n",
       "    <tr>\n",
       "      <th>1</th>\n",
       "      <td>symptoms</td>\n",
       "      <td>What are the symptoms of Alkhurma Hemorrhagic ...</td>\n",
       "      <td>Based on limited information, after an incubat...</td>\n",
       "      <td>Alkhurma Hemorrhagic Fever (AHF) is a rare but...</td>\n",
       "      <td>Alkhurma Hemorrhagic Fever (AHF) is a viral di...</td>\n",
       "      <td>7.5</td>\n",
       "      <td>8.0</td>\n",
       "      <td>5.47</td>\n",
       "      <td>4.21</td>\n",
       "    </tr>\n",
       "    <tr>\n",
       "      <th>2</th>\n",
       "      <td>symptoms</td>\n",
       "      <td>what are the signs and symptoms of rabies?</td>\n",
       "      <td>The first symptoms of rabies may be very simil...</td>\n",
       "      <td>Rabies is a viral disease that affects the cen...</td>\n",
       "      <td>Early symptoms of rabies can be similar to the...</td>\n",
       "      <td>9.0</td>\n",
       "      <td>9.0</td>\n",
       "      <td>7.84</td>\n",
       "      <td>8.40</td>\n",
       "    </tr>\n",
       "    <tr>\n",
       "      <th>3</th>\n",
       "      <td>symptoms</td>\n",
       "      <td>what are the symptoms of botulism?</td>\n",
       "      <td>The classic symptoms of botulism include doubl...</td>\n",
       "      <td>Botulism is a rare but serious illness caused ...</td>\n",
       "      <td>1. Difficulty swallowing or speaking\\n2. Dry m...</td>\n",
       "      <td>9.0</td>\n",
       "      <td>9.0</td>\n",
       "      <td>8.57</td>\n",
       "      <td>4.97</td>\n",
       "    </tr>\n",
       "    <tr>\n",
       "      <th>4</th>\n",
       "      <td>symptoms</td>\n",
       "      <td>What are the symptoms of Marburg hemorrhagic f...</td>\n",
       "      <td>After an incubation period of 5-10 days, sympt...</td>\n",
       "      <td>Marburg hemorrhagic fever (Marburg HF) is a se...</td>\n",
       "      <td>Marburg hemorrhagic fever (Marburg HF) is a se...</td>\n",
       "      <td>9.5</td>\n",
       "      <td>9.5</td>\n",
       "      <td>8.20</td>\n",
       "      <td>7.97</td>\n",
       "    </tr>\n",
       "  </tbody>\n",
       "</table>\n",
       "</div>"
      ],
      "text/plain": [
       "      qtype                                           Question  \\\n",
       "0  symptoms  What are the symptoms of Lymphocytic Choriomen...   \n",
       "1  symptoms  What are the symptoms of Alkhurma Hemorrhagic ...   \n",
       "2  symptoms         what are the signs and symptoms of rabies?   \n",
       "3  symptoms                 what are the symptoms of botulism?   \n",
       "4  symptoms  What are the symptoms of Marburg hemorrhagic f...   \n",
       "\n",
       "                                              Answer  \\\n",
       "0  LCMV is most commonly recognized as causing ne...   \n",
       "1  Based on limited information, after an incubat...   \n",
       "2  The first symptoms of rabies may be very simil...   \n",
       "3  The classic symptoms of botulism include doubl...   \n",
       "4  After an incubation period of 5-10 days, sympt...   \n",
       "\n",
       "                                       MedLLM Answer  \\\n",
       "0  Lymphocytic choriomeningitis (LCM) is a viral ...   \n",
       "1  Alkhurma Hemorrhagic Fever (AHF) is a rare but...   \n",
       "2  Rabies is a viral disease that affects the cen...   \n",
       "3  Botulism is a rare but serious illness caused ...   \n",
       "4  Marburg hemorrhagic fever (Marburg HF) is a se...   \n",
       "\n",
       "                                General LLM Response  \\\n",
       "0  Lymphocytic Choriomeningitis (LCM) can cause a...   \n",
       "1  Alkhurma Hemorrhagic Fever (AHF) is a viral di...   \n",
       "2  Early symptoms of rabies can be similar to the...   \n",
       "3  1. Difficulty swallowing or speaking\\n2. Dry m...   \n",
       "4  Marburg hemorrhagic fever (Marburg HF) is a se...   \n",
       "\n",
       "   Expert/MedLLM Response Similarity  Expert/General LLM Response Similarity  \\\n",
       "0                                8.5                                     8.5   \n",
       "1                                7.5                                     8.0   \n",
       "2                                9.0                                     9.0   \n",
       "3                                9.0                                     9.0   \n",
       "4                                9.5                                     9.5   \n",
       "\n",
       "   Expert/MedLLM Response Similarity (BERT)  \\\n",
       "0                                      7.72   \n",
       "1                                      5.47   \n",
       "2                                      7.84   \n",
       "3                                      8.57   \n",
       "4                                      8.20   \n",
       "\n",
       "   Expert/General LLM Response Similarity (BERT)  \n",
       "0                                           7.40  \n",
       "1                                           4.21  \n",
       "2                                           8.40  \n",
       "3                                           4.97  \n",
       "4                                           7.97  "
      ]
     },
     "execution_count": 7,
     "metadata": {},
     "output_type": "execute_result"
    }
   ],
   "source": [
    "data = pd.read_csv('../medical_expert_data_with_all_similarity.csv')\n",
    "data.head()"
   ]
  },
  {
   "cell_type": "code",
   "execution_count": 9,
   "id": "408456d7",
   "metadata": {},
   "outputs": [
    {
     "data": {
      "text/plain": [
       "TtestResult(statistic=-0.2601421720380572, pvalue=0.7950271858007587, df=196.0)"
      ]
     },
     "execution_count": 9,
     "metadata": {},
     "output_type": "execute_result"
    }
   ],
   "source": [
    "stats.ttest_ind(a=data['Expert/General LLM Response Similarity'], b=data['Expert/MedLLM Response Similarity'], equal_var=True)"
   ]
  },
  {
   "cell_type": "code",
   "execution_count": 10,
   "id": "40a8d068",
   "metadata": {},
   "outputs": [
    {
     "data": {
      "text/plain": [
       "TtestResult(statistic=-1.5675319501103337, pvalue=0.11860343695892343, df=196.0)"
      ]
     },
     "execution_count": 10,
     "metadata": {},
     "output_type": "execute_result"
    }
   ],
   "source": [
    "stats.ttest_ind(a=data['Expert/General LLM Response Similarity (BERT)'], b=data['Expert/MedLLM Response Similarity (BERT)'], equal_var=True)"
   ]
  }
 ],
 "metadata": {
  "kernelspec": {
   "display_name": "base",
   "language": "python",
   "name": "python3"
  },
  "language_info": {
   "codemirror_mode": {
    "name": "ipython",
    "version": 3
   },
   "file_extension": ".py",
   "mimetype": "text/x-python",
   "name": "python",
   "nbconvert_exporter": "python",
   "pygments_lexer": "ipython3",
   "version": "3.11.5"
  }
 },
 "nbformat": 4,
 "nbformat_minor": 5
}
